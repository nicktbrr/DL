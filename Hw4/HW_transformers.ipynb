{
  "cells": [
    {
      "cell_type": "markdown",
      "metadata": {
        "id": "ldfrKsqM1zml"
      },
      "source": [
        "\n",
        "**Task Description:**\n",
        "You have learned about transformers and their applications in natural language processing. In this assignment, you will apply your knowledge by implementing a transformer-based model to solve a text classification task.\n",
        "\n",
        "\n",
        "**Dataset:**\n",
        "You will be using the IMDB movie review dataset, which contains movie reviews labeled as positive or negative sentiment. The dataset will be downloaded and loaded using Python's file handling capabilities.\n",
        "\n",
        "**Task:**\n",
        "\n",
        "Your task is to build a transformer-based model using the torch.nn.Transformer module to classify movie reviews as positive or negative sentiment. You can use the provided dataset for training and evaluation.\n",
        "\n",
        "**Instructions:**\n",
        "\n",
        "(1) Download and Extract the IMDB Dataset:Run the following script to download and extract the IMDB dataset:"
      ]
    },
    {
      "cell_type": "code",
      "execution_count": 1,
      "metadata": {
        "id": "FZnKJoXqu31t"
      },
      "outputs": [],
      "source": [
        "import os\n",
        "import tarfile\n",
        "import urllib.request\n",
        "from torch.utils.data import DataLoader\n",
        "import torch\n",
        "\n",
        "# Function to download and extract IMDB dataset\n",
        "def download_extract_imdb(root=\"./imdb_data\"):\n",
        "    if not os.path.exists(root):\n",
        "        os.makedirs(root)\n",
        "\n",
        "    url = \"http://ai.stanford.edu/~amaas/data/sentiment/aclImdb_v1.tar.gz\"\n",
        "    filename = os.path.join(root, \"aclImdb_v1.tar.gz\")\n",
        "    urllib.request.urlretrieve(url, filename)\n",
        "\n",
        "    # Extract the tar.gz file\n",
        "    with tarfile.open(filename, \"r:gz\") as tar:\n",
        "        tar.extractall(root)\n",
        "\n",
        "# Download and extract IMDB dataset\n",
        "# download_extract_imdb()\n"
      ]
    },
    {
      "cell_type": "markdown",
      "metadata": {
        "id": "OlZts1t91u0m"
      },
      "source": [
        "(2) Load and Preprocess the Dataset:Use the following script to load the IMDB dataset, preprocess it, and tokenize the reviews:"
      ]
    },
    {
      "cell_type": "code",
      "execution_count": 2,
      "metadata": {
        "id": "p577rCQPu67M"
      },
      "outputs": [
        {
          "name": "stderr",
          "output_type": "stream",
          "text": [
            "/opt/anaconda3/envs/pytorch-env/lib/python3.11/site-packages/torchtext/data/__init__.py:4: UserWarning: \n",
            "/!\\ IMPORTANT WARNING ABOUT TORCHTEXT STATUS /!\\ \n",
            "Torchtext is deprecated and the last released version will be 0.18 (this one). You can silence this warning by calling the following at the beginnign of your scripts: `import torchtext; torchtext.disable_torchtext_deprecation_warning()`\n",
            "  warnings.warn(torchtext._TORCHTEXT_DEPRECATION_MSG)\n"
          ]
        }
      ],
      "source": [
        "import os\n",
        "from torchtext.data.utils import get_tokenizer\n",
        "\n",
        "# Set up tokenizer\n",
        "tokenizer = get_tokenizer(\"basic_english\")\n",
        "\n",
        "# Load training data\n",
        "def load_imdb_data(root=\"imdb_data/aclImdb\"):\n",
        "    train_data = []\n",
        "    for label in [\"pos\", \"neg\"]:\n",
        "        label_dir = os.path.join(root, \"train\", label)\n",
        "        for filename in os.listdir(label_dir):\n",
        "            with open(os.path.join(label_dir, filename), \"r\", encoding=\"utf-8\") as file:\n",
        "                review = file.read()\n",
        "                # Tokenize review\n",
        "                tokenized_review = tokenizer(review)\n",
        "                train_data.append((tokenized_review, 1 if label == \"pos\" else 0))\n",
        "    return train_data\n",
        "\n",
        "# Load training data\n",
        "train_data = load_imdb_data()\n",
        "\n",
        "# Load testing data\n",
        "def load_test_data(root=\"imdb_data/aclImdb\"):\n",
        "    test_data = []\n",
        "    for label in [\"pos\", \"neg\"]:\n",
        "        label_dir = os.path.join(root, \"test\", label)\n",
        "        for filename in os.listdir(label_dir):\n",
        "            with open(os.path.join(label_dir, filename), \"r\", encoding=\"utf-8\") as file:\n",
        "                review = file.read()\n",
        "                # Tokenize review\n",
        "                tokenized_review = tokenizer(review)\n",
        "                test_data.append((tokenized_review, 1 if label == \"pos\" else 0))\n",
        "    return test_data\n",
        "\n",
        "# Load testing data\n",
        "test_data = load_test_data()\n"
      ]
    },
    {
      "cell_type": "code",
      "execution_count": 3,
      "metadata": {
        "colab": {
          "base_uri": "https://localhost:8080/"
        },
        "id": "1Fic4RUKvg2_",
        "outputId": "b18fe37a-84bb-4643-c51c-36bbb6966959"
      },
      "outputs": [
        {
          "name": "stdout",
          "output_type": "stream",
          "text": [
            "Tokenized Positive Example:\n",
            "['for', 'a', 'movie', 'that', 'gets', 'no', 'respect', 'there', 'sure', 'are', 'a', 'lot', 'of', 'memorable', 'quotes', 'listed', 'for', 'this', 'gem', '.', 'imagine', 'a', 'movie', 'where', 'joe', 'piscopo', 'is', 'actually', 'funny', '!', 'maureen', 'stapleton', 'is', 'a', 'scene', 'stealer', '.', 'the', 'moroni', 'character', 'is', 'an', 'absolute', 'scream', '.', 'watch', 'for', 'alan', 'the', 'skipper', 'hale', 'jr', '.', 'as', 'a', 'police', 'sgt', '.']\n",
            "Tokenized Negative Example:\n",
            "['working', 'with', 'one', 'of', 'the', 'best', 'shakespeare', 'sources', ',', 'this', 'film', 'manages', 'to', 'be', 'creditable', 'to', 'it', \"'\", 's', 'source', ',', 'whilst', 'still', 'appealing', 'to', 'a', 'wider', 'audience', '.', 'branagh', 'steals', 'the', 'film', 'from', 'under', 'fishburne', \"'\", 's', 'nose', ',', 'and', 'there', \"'\", 's', 'a', 'talented', 'cast', 'on', 'good', 'form', '.']\n"
          ]
        }
      ],
      "source": [
        "# Display tokenized positive and negative examples\n",
        "print(\"Tokenized Positive Example:\")\n",
        "print(train_data[0][0])\n",
        "print(\"Tokenized Negative Example:\")\n",
        "print(train_data[len(train_data)//2][0])"
      ]
    },
    {
      "cell_type": "code",
      "execution_count": 4,
      "metadata": {
        "colab": {
          "base_uri": "https://localhost:8080/"
        },
        "id": "wgp2OksU2KfU",
        "outputId": "2968d124-e86c-495c-d1ab-7dc5591dd1ca"
      },
      "outputs": [
        {
          "name": "stdout",
          "output_type": "stream",
          "text": [
            "Training Dataset:\n",
            "Label: Positive\n",
            "Tokenized Review: ['for', 'a', 'movie', 'that', 'gets', 'no', 'respect', 'there', 'sure', 'are', 'a', 'lot', 'of', 'memorable', 'quotes', 'listed', 'for', 'this', 'gem', '.', 'imagine', 'a', 'movie', 'where', 'joe', 'piscopo', 'is', 'actually', 'funny', '!', 'maureen', 'stapleton', 'is', 'a', 'scene', 'stealer', '.', 'the', 'moroni', 'character', 'is', 'an', 'absolute', 'scream', '.', 'watch', 'for', 'alan', 'the', 'skipper', 'hale', 'jr', '.', 'as', 'a', 'police', 'sgt', '.']\n",
            "\n",
            "Label: Positive\n",
            "Tokenized Review: ['bizarre', 'horror', 'movie', 'filled', 'with', 'famous', 'faces', 'but', 'stolen', 'by', 'cristina', 'raines', '(', 'later', 'of', 'tv', \"'\", 's', 'flamingo', 'road', ')', 'as', 'a', 'pretty', 'but', 'somewhat', 'unstable', 'model', 'with', 'a', 'gummy', 'smile', 'who', 'is', 'slated', 'to', 'pay', 'for', 'her', 'attempted', 'suicides', 'by', 'guarding', 'the', 'gateway', 'to', 'hell', '!', 'the', 'scenes', 'with', 'raines', 'modeling', 'are', 'very', 'well', 'captured', ',', 'the', 'mood', 'music', 'is', 'perfect', ',', 'deborah', 'raffin', 'is', 'charming', 'as', 'cristina', \"'\", 's', 'pal', ',', 'but', 'when', 'raines', 'moves', 'into', 'a', 'creepy', 'brooklyn', 'heights', 'brownstone', '(', 'inhabited', 'by', 'a', 'blind', 'priest', 'on', 'the', 'top', 'floor', ')', ',', 'things', 'really', 'start', 'cooking', '.', 'the', 'neighbors', ',', 'including', 'a', 'fantastically', 'wicked', 'burgess', 'meredith', 'and', 'kinky', 'couple', 'sylvia', 'miles', '&', 'beverly', 'd', \"'\", 'angelo', ',', 'are', 'a', 'diabolical', 'lot', ',', 'and', 'eli', 'wallach', 'is', 'great', 'fun', 'as', 'a', 'wily', 'police', 'detective', '.', 'the', 'movie', 'is', 'nearly', 'a', 'cross-pollination', 'of', 'rosemary', \"'\", 's', 'baby', 'and', 'the', 'exorcist--but', 'what', 'a', 'combination', '!', 'based', 'on', 'the', 'best-seller', 'by', 'jeffrey', 'konvitz', ',', 'the', 'sentinel', 'is', 'entertainingly', 'spooky', ',', 'full', 'of', 'shocks', 'brought', 'off', 'well', 'by', 'director', 'michael', 'winner', ',', 'who', 'mounts', 'a', 'thoughtfully', 'downbeat', 'ending', 'with', 'skill', '.', '***1/2', 'from', '****']\n",
            "\n",
            "Label: Positive\n",
            "Tokenized Review: ['a', 'solid', ',', 'if', 'unremarkable', 'film', '.', 'matthau', ',', 'as', 'einstein', ',', 'was', 'wonderful', '.', 'my', 'favorite', 'part', ',', 'and', 'the', 'only', 'thing', 'that', 'would', 'make', 'me', 'go', 'out', 'of', 'my', 'way', 'to', 'see', 'this', 'again', ',', 'was', 'the', 'wonderful', 'scene', 'with', 'the', 'physicists', 'playing', 'badmitton', ',', 'i', 'loved', 'the', 'sweaters', 'and', 'the', 'conversation', 'while', 'they', 'waited', 'for', 'robbins', 'to', 'retrieve', 'the', 'birdie', '.']\n",
            "\n",
            "Testing Dataset:\n",
            "Label: Positive\n",
            "Tokenized Review: ['based', 'on', 'an', 'actual', 'story', ',', 'john', 'boorman', 'shows', 'the', 'struggle', 'of', 'an', 'american', 'doctor', ',', 'whose', 'husband', 'and', 'son', 'were', 'murdered', 'and', 'she', 'was', 'continually', 'plagued', 'with', 'her', 'loss', '.', 'a', 'holiday', 'to', 'burma', 'with', 'her', 'sister', 'seemed', 'like', 'a', 'good', 'idea', 'to', 'get', 'away', 'from', 'it', 'all', ',', 'but', 'when', 'her', 'passport', 'was', 'stolen', 'in', 'rangoon', ',', 'she', 'could', 'not', 'leave', 'the', 'country', 'with', 'her', 'sister', ',', 'and', 'was', 'forced', 'to', 'stay', 'back', 'until', 'she', 'could', 'get', 'i', '.', 'd', '.', 'papers', 'from', 'the', 'american', 'embassy', '.', 'to', 'fill', 'in', 'a', 'day', 'before', 'she', 'could', 'fly', 'out', ',', 'she', 'took', 'a', 'trip', 'into', 'the', 'countryside', 'with', 'a', 'tour', 'guide', '.', 'i', 'tried', 'finding', 'something', 'in', 'those', 'stone', 'statues', ',', 'but', 'nothing', 'stirred', 'in', 'me', '.', 'i', 'was', 'stone', 'myself', '.', 'suddenly', 'all', 'hell', 'broke', 'loose', 'and', 'she', 'was', 'caught', 'in', 'a', 'political', 'revolt', '.', 'just', 'when', 'it', 'looked', 'like', 'she', 'had', 'escaped', 'and', 'safely', 'boarded', 'a', 'train', ',', 'she', 'saw', 'her', 'tour', 'guide', 'get', 'beaten', 'and', 'shot', '.', 'in', 'a', 'split', 'second', 'she', 'decided', 'to', 'jump', 'from', 'the', 'moving', 'train', 'and', 'try', 'to', 'rescue', 'him', ',', 'with', 'no', 'thought', 'of', 'herself', '.', 'continually', 'her', 'life', 'was', 'in', 'danger', '.', 'here', 'is', 'a', 'woman', 'who', 'demonstrated', 'spontaneous', ',', 'selfless', 'charity', ',', 'risking', 'her', 'life', 'to', 'save', 'another', '.', 'patricia', 'arquette', 'is', 'beautiful', ',', 'and', 'not', 'just', 'to', 'look', 'at', 'she', 'has', 'a', 'beautiful', 'heart', '.', 'this', 'is', 'an', 'unforgettable', 'story', '.', 'we', 'are', 'taught', 'that', 'suffering', 'is', 'the', 'one', 'promise', 'that', 'life', 'always', 'keeps', '.']\n",
            "\n",
            "Label: Positive\n",
            "Tokenized Review: ['this', 'is', 'a', 'gem', '.', 'as', 'a', 'film', 'four', 'production', '-', 'the', 'anticipated', 'quality', 'was', 'indeed', 'delivered', '.', 'shot', 'with', 'great', 'style', 'that', 'reminded', 'me', 'some', 'errol', 'morris', 'films', ',', 'well', 'arranged', 'and', 'simply', 'gripping', '.', 'it', \"'\", 's', 'long', 'yet', 'horrifying', 'to', 'the', 'point', 'it', \"'\", 's', 'excruciating', '.', 'we', 'know', 'something', 'bad', 'happened', '(', 'one', 'can', 'guess', 'by', 'the', 'lack', 'of', 'participation', 'of', 'a', 'person', 'in', 'the', 'interviews', ')', 'but', 'we', 'are', 'compelled', 'to', 'see', 'it', ',', 'a', 'bit', 'like', 'a', 'car', 'accident', 'in', 'slow', 'motion', '.', 'the', 'story', 'spans', 'most', 'conceivable', 'aspects', 'and', 'unlike', 'some', 'documentaries', 'did', 'not', 'try', 'and', 'refrain', 'from', 'showing', 'the', 'grimmer', 'sides', 'of', 'the', 'stories', ',', 'as', 'also', 'dealing', 'with', 'the', 'guilt', 'of', 'the', 'people', 'don', 'left', 'behind', 'him', ',', 'wondering', 'why', 'they', 'didn', \"'\", 't', 'stop', 'him', 'in', 'time', '.', 'it', 'took', 'me', 'a', 'few', 'hours', 'to', 'get', 'out', 'of', 'the', 'melancholy', 'that', 'gripped', 'me', 'after', 'seeing', 'this', 'very-well', 'made', 'documentary', '.']\n",
            "\n",
            "Label: Positive\n",
            "Tokenized Review: ['i', 'really', 'like', 'this', 'show', '.', 'it', 'has', 'drama', ',', 'romance', ',', 'and', 'comedy', 'all', 'rolled', 'into', 'one', '.', 'i', 'am', '28', 'and', 'i', 'am', 'a', 'married', 'mother', ',', 'so', 'i', 'can', 'identify', 'both', 'with', 'lorelei', \"'\", 's', 'and', 'rory', \"'\", 's', 'experiences', 'in', 'the', 'show', '.', 'i', 'have', 'been', 'watching', 'mostly', 'the', 'repeats', 'on', 'the', 'family', 'channel', 'lately', ',', 'so', 'i', 'am', 'not', 'up-to-date', 'on', 'what', 'is', 'going', 'on', 'now', '.', 'i', 'think', 'females', 'would', 'like', 'this', 'show', 'more', 'than', 'males', ',', 'but', 'i', 'know', 'some', 'men', 'out', 'there', 'would', 'enjoy', 'it', '!', 'i', 'really', 'like', 'that', 'is', 'an', 'hour', 'long', 'and', 'not', 'a', 'half', 'hour', ',', 'as', 'th', 'hour', 'seems', 'to', 'fly', 'by', 'when', 'i', 'am', 'watching', 'it', '!', 'give', 'it', 'a', 'chance', 'if', 'you', 'have', 'never', 'seen', 'the', 'show', '!', 'i', 'think', 'lorelei', 'and', 'luke', 'are', 'my', 'favorite', 'characters', 'on', 'the', 'show', 'though', ',', 'mainly', 'because', 'of', 'the', 'way', 'they', 'are', 'with', 'one', 'another', '.', 'how', 'could', 'you', 'not', 'see', 'something', 'was', 'there', '(', 'or', 'take', 'that', 'long', 'to', 'see', 'it', 'i', 'guess', 'i', 'should', 'say', ')', '?', 'happy', 'viewing', '!']\n",
            "\n"
          ]
        }
      ],
      "source": [
        "# Display tokenized examples with labels for training dataset\n",
        "print(\"Training Dataset:\")\n",
        "for review, label in train_data[:3]:\n",
        "    print(\"Label:\", \"Positive\" if label == 1 else \"Negative\")\n",
        "    print(\"Tokenized Review:\", review)\n",
        "    print()\n",
        "\n",
        "# Display tokenized examples with labels for testing dataset\n",
        "print(\"Testing Dataset:\")\n",
        "for review, label in test_data[:3]:\n",
        "    print(\"Label:\", \"Positive\" if label == 1 else \"Negative\")\n",
        "    print(\"Tokenized Review:\", review)\n",
        "    print()\n"
      ]
    },
    {
      "cell_type": "code",
      "execution_count": 5,
      "metadata": {},
      "outputs": [
        {
          "data": {
            "image/png": "[encoded data removed]",
            "text/plain": [
              "<Figure size 1500x600 with 2 Axes>"
            ]
          },
          "metadata": {},
          "output_type": "display_data"
        }
      ],
      "source": [
        "import matplotlib.pyplot as plt\n",
        "import numpy as np\n",
        "\n",
        "# Calculate word counts for each review\n",
        "def get_word_counts(data):\n",
        "    return [len(review) for review, _ in data]\n",
        "\n",
        "# Calculate word counts\n",
        "train_word_counts = get_word_counts(train_data)\n",
        "test_word_counts = get_word_counts(test_data)\n",
        "\n",
        "# Create figure with two subplots\n",
        "fig, (ax1, ax2) = plt.subplots(1, 2, figsize=(15, 6))\n",
        "\n",
        "# Plot histogram for training data\n",
        "ax1.hist(train_word_counts, bins=50, alpha=0.7, color='blue')\n",
        "ax1.set_title('Word Count Distribution - Training Data')\n",
        "ax1.set_xlabel('Word Count')\n",
        "ax1.set_ylabel('Number of Reviews')\n",
        "ax1.grid(True, alpha=0.3)\n",
        "\n",
        "# Plot histogram for testing data\n",
        "ax2.hist(test_word_counts, bins=50, alpha=0.7, color='green')\n",
        "ax2.set_title('Word Count Distribution - Testing Data')\n",
        "ax2.set_xlabel('Word Count')\n",
        "ax2.set_ylabel('Number of Reviews')\n",
        "ax2.grid(True, alpha=0.3)\n",
        "\n",
        "# Add some statistics as text\n",
        "train_stats = f\"Training Data:\\nMin: {min(train_word_counts)}\\nMax: {max(train_word_counts)}\\nMean: {np.mean(train_word_counts):.1f}\\nMedian: {np.median(train_word_counts):.1f}\"\n",
        "test_stats = f\"Testing Data:\\nMin: {min(test_word_counts)}\\nMax: {max(test_word_counts)}\\nMean: {np.mean(test_word_counts):.1f}\\nMedian: {np.median(test_word_counts):.1f}\"\n",
        "\n",
        "ax1.text(0.05, 0.95, train_stats, transform=ax1.transAxes, \n",
        "         verticalalignment='top', bbox=dict(boxstyle='round', alpha=0.1))\n",
        "ax2.text(0.05, 0.95, test_stats, transform=ax2.transAxes, \n",
        "         verticalalignment='top', bbox=dict(boxstyle='round', alpha=0.1))\n",
        "\n",
        "plt.tight_layout()\n",
        "plt.savefig('word_count_distribution.png')\n",
        "plt.show()"
      ]
    },
    {
      "cell_type": "code",
      "execution_count": 6,
      "metadata": {},
      "outputs": [
        {
          "data": {
            "text/plain": [
              "(22163, 22358)"
            ]
          },
          "execution_count": 6,
          "metadata": {},
          "output_type": "execute_result"
        }
      ],
      "source": [
        "train_data_trunk = [(review, label) for review, label in train_data if len(review) <= 500]\n",
        "test_data_trunk = [(review, label) for review, label in test_data if len(review) <= 500]\n",
        "len(train_data_trunk), len(test_data_trunk)\n"
      ]
    },
    {
      "cell_type": "code",
      "execution_count": 7,
      "metadata": {},
      "outputs": [
        {
          "data": {
            "image/png": "[encoded data removed]",
            "text/plain": [
              "<Figure size 1500x600 with 2 Axes>"
            ]
          },
          "metadata": {},
          "output_type": "display_data"
        }
      ],
      "source": [
        "def get_word_counts(data):\n",
        "    return [len(review) for review, _ in data]\n",
        "\n",
        "# Calculate word counts\n",
        "train_word_counts = get_word_counts(train_data_trunk)\n",
        "test_word_counts = get_word_counts(test_data_trunk)\n",
        "\n",
        "# Create figure with two subplots\n",
        "fig, (ax1, ax2) = plt.subplots(1, 2, figsize=(15, 6))\n",
        "\n",
        "# Plot histogram for training data\n",
        "ax1.hist(train_word_counts, bins=50, alpha=0.7, color='blue')\n",
        "ax1.set_title('Word Count Distribution - Training Data')\n",
        "ax1.set_xlabel('Word Count')\n",
        "ax1.set_ylabel('Number of Reviews')\n",
        "ax1.grid(True, alpha=0.3)\n",
        "\n",
        "# Plot histogram for testing data\n",
        "ax2.hist(test_word_counts, bins=50, alpha=0.7, color='green')\n",
        "ax2.set_title('Word Count Distribution - Testing Data')\n",
        "ax2.set_xlabel('Word Count')\n",
        "ax2.set_ylabel('Number of Reviews')\n",
        "ax2.grid(True, alpha=0.3)\n",
        "\n",
        "# Add some statistics as text\n",
        "train_stats = f\"Training Data:\\nMin: {min(train_word_counts)}\\nMax: {max(train_word_counts)}\\nMean: {np.mean(train_word_counts):.1f}\\nMedian: {np.median(train_word_counts):.1f}\"\n",
        "test_stats = f\"Testing Data:\\nMin: {min(test_word_counts)}\\nMax: {max(test_word_counts)}\\nMean: {np.mean(test_word_counts):.1f}\\nMedian: {np.median(test_word_counts):.1f}\"\n",
        "\n",
        "ax1.text(0.05, 0.95, train_stats, transform=ax1.transAxes, \n",
        "         verticalalignment='top', bbox=dict(boxstyle='round', alpha=0.1))\n",
        "ax2.text(0.05, 0.95, test_stats, transform=ax2.transAxes, \n",
        "         verticalalignment='top', bbox=dict(boxstyle='round', alpha=0.1))\n",
        "\n",
        "plt.tight_layout()\n",
        "plt.savefig('word_count_distribution.png')\n",
        "plt.show()"
      ]
    },
    {
      "cell_type": "markdown",
      "metadata": {
        "id": "iW1iFsYaClk4"
      },
      "source": [
        "This script loads the IMDB dataset, tokenizes the reviews using the basic_english tokenizer, and displays tokenized examples for both positive and negative sentiment reviews.\n",
        "\n",
        "(3) Implement the Transformer Model:Implement the Transformer model using the torch.nn.Transformer module.\n",
        "\n",
        "(4)Train the Model:Define loss function and optimizer, and train the model on the training dataset.\n",
        "\n",
        "(5) Evaluate the Model:Evaluate the trained model on the testing dataset.\n",
        "\n",
        "(6) Calculate accuracy and other relevant metrics.\n",
        "\n",
        "Submission:Submit your implementation along with a brief report describing your model architecture, training procedure, evaluation results, and any insights gained."
      ]
    },
    {
      "cell_type": "code",
      "execution_count": 8,
      "metadata": {},
      "outputs": [],
      "source": [
        "def build_vocab(data):\n",
        "    vocab = set()\n",
        "    for tokens, _ in data:\n",
        "        vocab.update(tokens)\n",
        "    vocab = list(vocab)\n",
        "    vocab.insert(0, '<UNK>')  # unknown token\n",
        "    vocab.insert(1, '<PAD>')  # padding token\n",
        "    vocab_to_idx = {word: idx for idx, word in enumerate(vocab)}\n",
        "    return vocab_to_idx\n",
        "\n",
        "vocab_to_idx = build_vocab(train_data)"
      ]
    },
    {
      "cell_type": "code",
      "execution_count": 15,
      "metadata": {},
      "outputs": [],
      "source": [
        "def collate_batch(batch):\n",
        "    text, labels = zip(*batch)\n",
        "    labels = torch.tensor(labels)\n",
        "    # Find the maximum length of text in the batch\n",
        "    max_length = max(len(item) for item in text)\n",
        "    # Create a tensor to hold the padded sequences\n",
        "    padded_text = torch.zeros((len(text), max_length), dtype=torch.long)\n",
        "    for i, item in enumerate(text):\n",
        "        # Fill the tensor with the sequences, leaving the remaining space as padding\n",
        "        padded_text[i, :len(item)] = torch.tensor([\n",
        "            vocab_to_idx.get(token, 0) for token in item\n",
        "        ])\n",
        "    return padded_text, labels\n",
        "\n",
        "train_loader = DataLoader(train_data_trunk, batch_size=128, shuffle=True, collate_fn=collate_batch)\n",
        "test_loader = DataLoader(test_data_trunk, batch_size=128, shuffle=False, collate_fn=collate_batch)"
      ]
    },
    {
      "cell_type": "code",
      "execution_count": 16,
      "metadata": {},
      "outputs": [],
      "source": [
        "from torch.nn.functional import sigmoid\n",
        "from torch.optim import Adam, SGD\n",
        "from torch.nn import TransformerEncoder, TransformerEncoderLayer\n",
        "from torch import nn\n",
        "\n",
        "\n",
        "class TransformerModel(nn.Module):\n",
        "    def __init__(self, vocab_size, embed_dim, num_heads, hidden_dim, num_layers, num_classes, dropout=0.5):\n",
        "        super(TransformerModel, self).__init__()\n",
        "        self.embedding = nn.Embedding(vocab_size, embed_dim)\n",
        "        self.transformer_encoder = nn.TransformerEncoder(\n",
        "            nn.TransformerEncoderLayer(d_model=embed_dim, nhead=num_heads, dim_feedforward=hidden_dim, dropout=dropout),\n",
        "            num_layers=num_layers\n",
        "        )\n",
        "        self.fc = nn.Linear(embed_dim, num_classes)\n",
        "        self.dropout = nn.Dropout(dropout)\n",
        "\n",
        "    def forward(self, text):\n",
        "        embedded = self.embedding(text)\n",
        "        embedded = embedded.permute(1, 0, 2)\n",
        "        transformer_output = self.transformer_encoder(embedded)\n",
        "        pooled_output = torch.mean(transformer_output, dim=0)\n",
        "        pooled_output = self.dropout(pooled_output)\n",
        "        logits = self.fc(pooled_output)\n",
        "        return logits"
      ]
    },
    {
      "cell_type": "code",
      "execution_count": 19,
      "metadata": {
        "id": "7yag80x_Ctc3"
      },
      "outputs": [],
      "source": [
        "from tqdm.notebook import tqdm\n",
        "from tqdm.notebook import tqdm\n",
        "\n",
        "def train_model(model, train_loader, test_loader, num_epochs, learning_rate):\n",
        "    criterion = nn.CrossEntropyLoss()\n",
        "    optimizer = Adam(model.parameters(), lr=learning_rate)\n",
        "\n",
        "    best_accuracy = 0.0\n",
        "    \n",
        "    for epoch in range(num_epochs):\n",
        "        # TRAINING PHASE\n",
        "        model.train()\n",
        "        running_loss = 0.0\n",
        "        correct = 0\n",
        "        total = 0\n",
        "        \n",
        "        # Create progress bar for training batches\n",
        "        with tqdm(train_loader, desc=f\"Epoch {epoch+1}/{num_epochs} [Train]\") as pbar:\n",
        "            for batch_idx, (data, target) in enumerate(pbar):\n",
        "                # Forward pass\n",
        "                optimizer.zero_grad()\n",
        "                output = model(data)\n",
        "                loss = criterion(output, target)\n",
        "                \n",
        "                # Backward pass and optimize\n",
        "                loss.backward()\n",
        "                optimizer.step()\n",
        "                \n",
        "                # Calculate metrics\n",
        "                running_loss += loss.item()\n",
        "                _, predicted = torch.max(output, 1)  # Get predicted class\n",
        "                total += target.size(0)\n",
        "                correct += (predicted == target).sum().item()\n",
        "                \n",
        "                # Update progress bar with current batch stats\n",
        "                accuracy = 100 * correct / total\n",
        "                avg_loss = running_loss / (batch_idx + 1)\n",
        "                pbar.set_postfix({\n",
        "                    'loss': f'{avg_loss:.4f}',\n",
        "                    'acc': f'{accuracy:.2f}%'\n",
        "                })\n",
        "        \n",
        "        # TESTING PHASE\n",
        "        model.eval()\n",
        "        test_loss = 0.0\n",
        "        test_correct = 0\n",
        "        test_total = 0\n",
        "        \n",
        "        # Create progress bar for test batches\n",
        "        with torch.no_grad(), tqdm(test_loader, desc=f\"Epoch {epoch+1}/{num_epochs} [Test]\") as pbar:\n",
        "            for batch_idx, (data, target) in enumerate(pbar):\n",
        "                # Forward pass\n",
        "                output = model(data)\n",
        "                loss = criterion(output, target)\n",
        "                \n",
        "                # Calculate metrics\n",
        "                test_loss += loss.item()\n",
        "                _, predicted = torch.max(output, 1)\n",
        "                test_total += target.size(0)\n",
        "                test_correct += (predicted == target).sum().item()\n",
        "                \n",
        "                # Update progress bar with current batch stats\n",
        "                test_accuracy = 100 * test_correct / test_total\n",
        "                avg_test_loss = test_loss / (batch_idx + 1)\n",
        "                pbar.set_postfix({\n",
        "                    'loss': f'{avg_test_loss:.4f}',\n",
        "                    'acc': f'{test_accuracy:.2f}%'\n",
        "                })\n",
        "            if best_accuracy < test_accuracy:\n",
        "                best_accuracy = test_accuracy\n",
        "                torch.save(model.state_dict(), 'best_model.pth')\n",
        "        \n",
        "        # Print epoch summary\n",
        "        train_accuracy = 100 * correct / total\n",
        "        test_accuracy = 100 * test_correct / test_total\n",
        "        print(f\"Epoch {epoch+1}/{num_epochs} - Train Loss: {avg_loss:.4f}, Train Acc: {train_accuracy:.2f}%, Test Loss: {avg_test_loss:.4f}, Test Acc: {test_accuracy:.2f}%\")"
      ]
    },
    {
      "cell_type": "code",
      "execution_count": 20,
      "metadata": {
        "id": "PNdl9F0dCxpQ"
      },
      "outputs": [
        {
          "name": "stderr",
          "output_type": "stream",
          "text": [
            "/opt/anaconda3/envs/pytorch-env/lib/python3.11/site-packages/torch/nn/modules/transformer.py:306: UserWarning: enable_nested_tensor is True, but self.use_nested_tensor is False because encoder_layer.self_attn.batch_first was not True(use batch_first for better inference performance)\n",
            "  warnings.warn(f\"enable_nested_tensor is True, but self.use_nested_tensor is False because {why_not_sparsity_fast_path}\")\n"
          ]
        },
        {
          "data": {
            "application/vnd.jupyter.widget-view+json": {
              "model_id": "f61229987b4a429bb3437f4b5eb025f2",
              "version_major": 2,
              "version_minor": 0
            },
            "text/plain": [
              "Epoch 1/10 [Train]:   0%|          | 0/174 [00:00<?, ?it/s]"
            ]
          },
          "metadata": {},
          "output_type": "display_data"
        },
        {
          "data": {
            "application/vnd.jupyter.widget-view+json": {
              "model_id": "6736f960ba3c44c094118f870aa9fc16",
              "version_major": 2,
              "version_minor": 0
            },
            "text/plain": [
              "Epoch 1/10 [Test]:   0%|          | 0/175 [00:00<?, ?it/s]"
            ]
          },
          "metadata": {},
          "output_type": "display_data"
        },
        {
          "name": "stdout",
          "output_type": "stream",
          "text": [
            "Epoch 1/10 - Train Loss: 0.6422, Train Acc: 60.80%, Test Loss: 0.5339, Test Acc: 74.20%\n"
          ]
        },
        {
          "data": {
            "application/vnd.jupyter.widget-view+json": {
              "model_id": "7b91be60ccf4480ca0c0a4d881ad5e81",
              "version_major": 2,
              "version_minor": 0
            },
            "text/plain": [
              "Epoch 2/10 [Train]:   0%|          | 0/174 [00:00<?, ?it/s]"
            ]
          },
          "metadata": {},
          "output_type": "display_data"
        },
        {
          "data": {
            "application/vnd.jupyter.widget-view+json": {
              "model_id": "f806784e20d94fe195d64cc0b6cf344c",
              "version_major": 2,
              "version_minor": 0
            },
            "text/plain": [
              "Epoch 2/10 [Test]:   0%|          | 0/175 [00:00<?, ?it/s]"
            ]
          },
          "metadata": {},
          "output_type": "display_data"
        },
        {
          "name": "stdout",
          "output_type": "stream",
          "text": [
            "Epoch 2/10 - Train Loss: 0.4372, Train Acc: 79.88%, Test Loss: 0.4331, Test Acc: 81.80%\n"
          ]
        },
        {
          "data": {
            "application/vnd.jupyter.widget-view+json": {
              "model_id": "d4bdd296fd0043709bdec67aabe504c0",
              "version_major": 2,
              "version_minor": 0
            },
            "text/plain": [
              "Epoch 3/10 [Train]:   0%|          | 0/174 [00:00<?, ?it/s]"
            ]
          },
          "metadata": {},
          "output_type": "display_data"
        },
        {
          "data": {
            "application/vnd.jupyter.widget-view+json": {
              "model_id": "52b089bc6e0c44a4a8c0f8cc37d1d415",
              "version_major": 2,
              "version_minor": 0
            },
            "text/plain": [
              "Epoch 3/10 [Test]:   0%|          | 0/175 [00:00<?, ?it/s]"
            ]
          },
          "metadata": {},
          "output_type": "display_data"
        },
        {
          "name": "stdout",
          "output_type": "stream",
          "text": [
            "Epoch 3/10 - Train Loss: 0.3156, Train Acc: 86.63%, Test Loss: 0.4088, Test Acc: 84.30%\n"
          ]
        },
        {
          "data": {
            "application/vnd.jupyter.widget-view+json": {
              "model_id": "9fd4be422bc6459fa87e452284b05eab",
              "version_major": 2,
              "version_minor": 0
            },
            "text/plain": [
              "Epoch 4/10 [Train]:   0%|          | 0/174 [00:00<?, ?it/s]"
            ]
          },
          "metadata": {},
          "output_type": "display_data"
        },
        {
          "data": {
            "application/vnd.jupyter.widget-view+json": {
              "model_id": "8c462b0def4e4d06a1d895266756c87a",
              "version_major": 2,
              "version_minor": 0
            },
            "text/plain": [
              "Epoch 4/10 [Test]:   0%|          | 0/175 [00:00<?, ?it/s]"
            ]
          },
          "metadata": {},
          "output_type": "display_data"
        },
        {
          "name": "stdout",
          "output_type": "stream",
          "text": [
            "Epoch 4/10 - Train Loss: 0.2394, Train Acc: 90.49%, Test Loss: 0.4015, Test Acc: 86.02%\n"
          ]
        },
        {
          "data": {
            "application/vnd.jupyter.widget-view+json": {
              "model_id": "4f7701cbed5240a799703d65b5c63f64",
              "version_major": 2,
              "version_minor": 0
            },
            "text/plain": [
              "Epoch 5/10 [Train]:   0%|          | 0/174 [00:00<?, ?it/s]"
            ]
          },
          "metadata": {},
          "output_type": "display_data"
        },
        {
          "data": {
            "application/vnd.jupyter.widget-view+json": {
              "model_id": "757ed590e3c94e928a295af3ae4ded74",
              "version_major": 2,
              "version_minor": 0
            },
            "text/plain": [
              "Epoch 5/10 [Test]:   0%|          | 0/175 [00:00<?, ?it/s]"
            ]
          },
          "metadata": {},
          "output_type": "display_data"
        },
        {
          "name": "stdout",
          "output_type": "stream",
          "text": [
            "Epoch 5/10 - Train Loss: 0.1885, Train Acc: 92.93%, Test Loss: 0.3995, Test Acc: 86.65%\n"
          ]
        },
        {
          "data": {
            "application/vnd.jupyter.widget-view+json": {
              "model_id": "0c1693c23be044b1822b3a424c6a5628",
              "version_major": 2,
              "version_minor": 0
            },
            "text/plain": [
              "Epoch 6/10 [Train]:   0%|          | 0/174 [00:00<?, ?it/s]"
            ]
          },
          "metadata": {},
          "output_type": "display_data"
        },
        {
          "data": {
            "application/vnd.jupyter.widget-view+json": {
              "model_id": "a68ecf7e49a44a14ad0dff4db7c87b1a",
              "version_major": 2,
              "version_minor": 0
            },
            "text/plain": [
              "Epoch 6/10 [Test]:   0%|          | 0/175 [00:00<?, ?it/s]"
            ]
          },
          "metadata": {},
          "output_type": "display_data"
        },
        {
          "name": "stdout",
          "output_type": "stream",
          "text": [
            "Epoch 6/10 - Train Loss: 0.1486, Train Acc: 94.75%, Test Loss: 0.6300, Test Acc: 84.00%\n"
          ]
        },
        {
          "data": {
            "application/vnd.jupyter.widget-view+json": {
              "model_id": "bb31c348e92943eab4f03babea0e9264",
              "version_major": 2,
              "version_minor": 0
            },
            "text/plain": [
              "Epoch 7/10 [Train]:   0%|          | 0/174 [00:00<?, ?it/s]"
            ]
          },
          "metadata": {},
          "output_type": "display_data"
        },
        {
          "data": {
            "application/vnd.jupyter.widget-view+json": {
              "model_id": "333a48681e944d578f56f12bf75e4400",
              "version_major": 2,
              "version_minor": 0
            },
            "text/plain": [
              "Epoch 7/10 [Test]:   0%|          | 0/175 [00:00<?, ?it/s]"
            ]
          },
          "metadata": {},
          "output_type": "display_data"
        },
        {
          "name": "stdout",
          "output_type": "stream",
          "text": [
            "Epoch 7/10 - Train Loss: 0.1140, Train Acc: 96.17%, Test Loss: 0.5736, Test Acc: 85.07%\n"
          ]
        },
        {
          "data": {
            "application/vnd.jupyter.widget-view+json": {
              "model_id": "cfddfe0eb7784c688e995e901278c607",
              "version_major": 2,
              "version_minor": 0
            },
            "text/plain": [
              "Epoch 8/10 [Train]:   0%|          | 0/174 [00:00<?, ?it/s]"
            ]
          },
          "metadata": {},
          "output_type": "display_data"
        },
        {
          "data": {
            "application/vnd.jupyter.widget-view+json": {
              "model_id": "c7b00a8da008482f9a5b2ee976ab0b43",
              "version_major": 2,
              "version_minor": 0
            },
            "text/plain": [
              "Epoch 8/10 [Test]:   0%|          | 0/175 [00:00<?, ?it/s]"
            ]
          },
          "metadata": {},
          "output_type": "display_data"
        },
        {
          "name": "stdout",
          "output_type": "stream",
          "text": [
            "Epoch 8/10 - Train Loss: 0.0804, Train Acc: 97.55%, Test Loss: 0.7219, Test Acc: 85.50%\n"
          ]
        },
        {
          "data": {
            "application/vnd.jupyter.widget-view+json": {
              "model_id": "28d68df691314af68f9372e63541ad37",
              "version_major": 2,
              "version_minor": 0
            },
            "text/plain": [
              "Epoch 9/10 [Train]:   0%|          | 0/174 [00:00<?, ?it/s]"
            ]
          },
          "metadata": {},
          "output_type": "display_data"
        },
        {
          "data": {
            "application/vnd.jupyter.widget-view+json": {
              "model_id": "cdb072a06ee84b6e9e7a25b790bfa670",
              "version_major": 2,
              "version_minor": 0
            },
            "text/plain": [
              "Epoch 9/10 [Test]:   0%|          | 0/175 [00:00<?, ?it/s]"
            ]
          },
          "metadata": {},
          "output_type": "display_data"
        },
        {
          "name": "stdout",
          "output_type": "stream",
          "text": [
            "Epoch 9/10 - Train Loss: 0.0591, Train Acc: 98.29%, Test Loss: 0.9168, Test Acc: 85.11%\n"
          ]
        },
        {
          "data": {
            "application/vnd.jupyter.widget-view+json": {
              "model_id": "9d3e6f93b886428bbf646ecd09e81778",
              "version_major": 2,
              "version_minor": 0
            },
            "text/plain": [
              "Epoch 10/10 [Train]:   0%|          | 0/174 [00:00<?, ?it/s]"
            ]
          },
          "metadata": {},
          "output_type": "display_data"
        },
        {
          "data": {
            "application/vnd.jupyter.widget-view+json": {
              "model_id": "362fa1bf2d384134af50d395aee0df1f",
              "version_major": 2,
              "version_minor": 0
            },
            "text/plain": [
              "Epoch 10/10 [Test]:   0%|          | 0/175 [00:00<?, ?it/s]"
            ]
          },
          "metadata": {},
          "output_type": "display_data"
        },
        {
          "name": "stdout",
          "output_type": "stream",
          "text": [
            "Epoch 10/10 - Train Loss: 0.0394, Train Acc: 99.01%, Test Loss: 1.1909, Test Acc: 83.83%\n"
          ]
        }
      ],
      "source": [
        "device = torch.device('cuda' if torch.cuda.is_available() else 'cpu')\n",
        "VOCAB_SIZE = len(vocab_to_idx)\n",
        "EMBED_DIM = 60\n",
        "NUM_HEADS = 2\n",
        "HIDDEN_DIM = 60\n",
        "NUM_LAYERS = 1\n",
        "NUM_CLASSES = 2\n",
        "\n",
        "model = TransformerModel(VOCAB_SIZE, EMBED_DIM, NUM_HEADS, HIDDEN_DIM, NUM_LAYERS, NUM_CLASSES).to(device)\n",
        "\n",
        "train_model(model, train_loader, test_loader, 10, .001)"
      ]
    },
    {
      "cell_type": "code",
      "execution_count": 24,
      "metadata": {},
      "outputs": [
        {
          "name": "stderr",
          "output_type": "stream",
          "text": [
            "/opt/anaconda3/envs/pytorch-env/lib/python3.11/site-packages/torch/nn/modules/transformer.py:306: UserWarning: enable_nested_tensor is True, but self.use_nested_tensor is False because encoder_layer.self_attn.batch_first was not True(use batch_first for better inference performance)\n",
            "  warnings.warn(f\"enable_nested_tensor is True, but self.use_nested_tensor is False because {why_not_sparsity_fast_path}\")\n"
          ]
        },
        {
          "data": {
            "application/vnd.jupyter.widget-view+json": {
              "model_id": "75bc5d06a57543c8aa3137a2efe7813b",
              "version_major": 2,
              "version_minor": 0
            },
            "text/plain": [
              "  0%|          | 0/175 [00:00<?, ?it/s]"
            ]
          },
          "metadata": {},
          "output_type": "display_data"
        },
        {
          "name": "stdout",
          "output_type": "stream",
          "text": [
            "Test Loss: 0.3995, Test Accuracy: 86.65%\n"
          ]
        }
      ],
      "source": [
        "model = TransformerModel(VOCAB_SIZE, EMBED_DIM, NUM_HEADS, HIDDEN_DIM, NUM_LAYERS, NUM_CLASSES)\n",
        "model.load_state_dict(torch.load('best_model.pth'))\n",
        "\n",
        "model.eval()\n",
        "test_loss = 0.0\n",
        "test_correct = 0\n",
        "test_total = 0\n",
        "criterion = nn.CrossEntropyLoss()\n",
        "\n",
        "with torch.no_grad(), tqdm(test_loader) as pbar:\n",
        "    for batch_idx, (data, target) in enumerate(pbar):\n",
        "        # Forward pass\n",
        "        output = model(data)\n",
        "        loss = criterion(output, target)\n",
        "        \n",
        "        # Calculate metrics\n",
        "        test_loss += loss.item()\n",
        "        _, predicted = torch.max(output, 1)\n",
        "        test_total += target.size(0)\n",
        "        test_correct += (predicted == target).sum().item()\n",
        "        \n",
        "        # Update progress bar with current batch stats\n",
        "        test_accuracy = 100 * test_correct / test_total\n",
        "        avg_test_loss = test_loss / (batch_idx + 1)\n",
        "        pbar.set_postfix({\n",
        "            'loss': f'{avg_test_loss:.4f}',\n",
        "            'acc': f'{test_accuracy:.2f}%'\n",
        "        })\n",
        "print(f\"Test Loss: {avg_test_loss:.4f}, Test Accuracy: {test_accuracy:.2f}%\")"
      ]
    },
    {
      "cell_type": "markdown",
      "metadata": {},
      "source": [
        "## **Report**"
      ]
    },
    {
      "cell_type": "markdown",
      "metadata": {},
      "source": [
        "During my tests I discovered a few different optimizations that I had to make. The first was that some data points where extremely long, over 2,000 words, to make my model train in a reasonable time I trunked all data points to those with less than 500.\n",
        "\n",
        "I also had trouble after doing this with some words not appearing in the training set that appear in the test set. I also had to add padding for each of my batches to make sure that each batch had the same length. To do this I calcualted the max size in the batch then padding each sentence with 0s."
      ]
    }
  ],
  "metadata": {
    "colab": {
      "provenance": []
    },
    "kernelspec": {
      "display_name": "pytorch-env",
      "language": "python",
      "name": "python3"
    },
    "language_info": {
      "codemirror_mode": {
        "name": "ipython",
        "version": 3
      },
      "file_extension": ".py",
      "mimetype": "text/x-python",
      "name": "python",
      "nbconvert_exporter": "python",
      "pygments_lexer": "ipython3",
      "version": "3.11.11"
    }
  },
  "nbformat": 4,
  "nbformat_minor": 0
}
